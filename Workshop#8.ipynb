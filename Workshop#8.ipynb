{
 "cells": [
  {
   "cell_type": "markdown",
   "metadata": {},
   "source": [
    "# Workshop # 8 - Ensemble"
   ]
  },
  {
   "cell_type": "code",
   "execution_count": 1,
   "metadata": {},
   "outputs": [],
   "source": [
    "#Import Python Libraries\n",
    "import numpy as np\n",
    "import pandas as pd\n",
    "import matplotlib.pyplot as plt\n",
    "import seaborn as sns"
   ]
  },
  {
   "cell_type": "code",
   "execution_count": 2,
   "metadata": {},
   "outputs": [
    {
     "data": {
      "text/plain": [
       "Index(['PassengerId', 'Survived', 'Pclass', 'Name', 'Sex', 'Age', 'SibSp',\n",
       "       'Parch', 'Ticket', 'Fare', 'Cabin', 'Embarked'],\n",
       "      dtype='object')"
      ]
     },
     "execution_count": 2,
     "metadata": {},
     "output_type": "execute_result"
    }
   ],
   "source": [
    "\n",
    "df = pd.read_csv(\"titanic-train.csv\")\n",
    "\n",
    "df.columns"
   ]
  },
  {
   "cell_type": "code",
   "execution_count": 3,
   "metadata": {},
   "outputs": [
    {
     "data": {
      "text/html": [
       "<div>\n",
       "<style scoped>\n",
       "    .dataframe tbody tr th:only-of-type {\n",
       "        vertical-align: middle;\n",
       "    }\n",
       "\n",
       "    .dataframe tbody tr th {\n",
       "        vertical-align: top;\n",
       "    }\n",
       "\n",
       "    .dataframe thead th {\n",
       "        text-align: right;\n",
       "    }\n",
       "</style>\n",
       "<table border=\"1\" class=\"dataframe\">\n",
       "  <thead>\n",
       "    <tr style=\"text-align: right;\">\n",
       "      <th></th>\n",
       "      <th>Survived</th>\n",
       "      <th>Pclass</th>\n",
       "      <th>Sex</th>\n",
       "      <th>Age</th>\n",
       "      <th>SibSp</th>\n",
       "      <th>Parch</th>\n",
       "    </tr>\n",
       "  </thead>\n",
       "  <tbody>\n",
       "    <tr>\n",
       "      <th>0</th>\n",
       "      <td>0</td>\n",
       "      <td>3</td>\n",
       "      <td>male</td>\n",
       "      <td>22.0</td>\n",
       "      <td>1</td>\n",
       "      <td>0</td>\n",
       "    </tr>\n",
       "    <tr>\n",
       "      <th>1</th>\n",
       "      <td>1</td>\n",
       "      <td>1</td>\n",
       "      <td>female</td>\n",
       "      <td>38.0</td>\n",
       "      <td>1</td>\n",
       "      <td>0</td>\n",
       "    </tr>\n",
       "    <tr>\n",
       "      <th>2</th>\n",
       "      <td>1</td>\n",
       "      <td>3</td>\n",
       "      <td>female</td>\n",
       "      <td>26.0</td>\n",
       "      <td>0</td>\n",
       "      <td>0</td>\n",
       "    </tr>\n",
       "    <tr>\n",
       "      <th>3</th>\n",
       "      <td>1</td>\n",
       "      <td>1</td>\n",
       "      <td>female</td>\n",
       "      <td>35.0</td>\n",
       "      <td>1</td>\n",
       "      <td>0</td>\n",
       "    </tr>\n",
       "    <tr>\n",
       "      <th>4</th>\n",
       "      <td>0</td>\n",
       "      <td>3</td>\n",
       "      <td>male</td>\n",
       "      <td>35.0</td>\n",
       "      <td>0</td>\n",
       "      <td>0</td>\n",
       "    </tr>\n",
       "  </tbody>\n",
       "</table>\n",
       "</div>"
      ],
      "text/plain": [
       "   Survived  Pclass     Sex   Age  SibSp  Parch\n",
       "0         0       3    male  22.0      1      0\n",
       "1         1       1  female  38.0      1      0\n",
       "2         1       3  female  26.0      0      0\n",
       "3         1       1  female  35.0      1      0\n",
       "4         0       3    male  35.0      0      0"
      ]
     },
     "execution_count": 3,
     "metadata": {},
     "output_type": "execute_result"
    }
   ],
   "source": [
    "df2 = df.loc[:,['Survived', 'Pclass', 'Sex', 'Age', 'SibSp', 'Parch']]\n",
    "df2.head()"
   ]
  },
  {
   "cell_type": "code",
   "execution_count": 4,
   "metadata": {},
   "outputs": [
    {
     "name": "stdout",
     "output_type": "stream",
     "text": [
      "Age missing  177\n",
      "PClass missing  0\n",
      "SibSp missing  0\n",
      "Parch missing  0\n",
      "Survived missing  0\n"
     ]
    }
   ],
   "source": [
    "print('Age missing ', df2['Age'].isnull().sum())\n",
    "print('PClass missing ', df2['Pclass'].isnull().sum())\n",
    "print('SibSp missing ', df2['SibSp'].isnull().sum())\n",
    "print('Parch missing ', df2['Parch'].isnull().sum())\n",
    "print('Survived missing ', df2['Survived'].isnull().sum())"
   ]
  },
  {
   "cell_type": "code",
   "execution_count": 5,
   "metadata": {},
   "outputs": [
    {
     "name": "stdout",
     "output_type": "stream",
     "text": [
      "Age missing  0\n"
     ]
    }
   ],
   "source": [
    "df2['Age'] = df2['Age'].fillna(df2['Age'].mean())\n",
    "\n",
    "print('Age missing ', df2['Age'].isnull().sum())"
   ]
  },
  {
   "cell_type": "code",
   "execution_count": 6,
   "metadata": {},
   "outputs": [
    {
     "data": {
      "text/plain": [
       "Index(['Survived', 'Pclass', 'Sex', 'Age', 'SibSp', 'Parch'], dtype='object')"
      ]
     },
     "execution_count": 6,
     "metadata": {},
     "output_type": "execute_result"
    }
   ],
   "source": [
    "df2.columns"
   ]
  },
  {
   "cell_type": "code",
   "execution_count": 7,
   "metadata": {},
   "outputs": [
    {
     "data": {
      "text/html": [
       "<div>\n",
       "<style scoped>\n",
       "    .dataframe tbody tr th:only-of-type {\n",
       "        vertical-align: middle;\n",
       "    }\n",
       "\n",
       "    .dataframe tbody tr th {\n",
       "        vertical-align: top;\n",
       "    }\n",
       "\n",
       "    .dataframe thead th {\n",
       "        text-align: right;\n",
       "    }\n",
       "</style>\n",
       "<table border=\"1\" class=\"dataframe\">\n",
       "  <thead>\n",
       "    <tr style=\"text-align: right;\">\n",
       "      <th></th>\n",
       "      <th>Survived</th>\n",
       "      <th>Pclass</th>\n",
       "      <th>Age</th>\n",
       "      <th>SibSp</th>\n",
       "      <th>Parch</th>\n",
       "      <th>Sex_female</th>\n",
       "      <th>Sex_male</th>\n",
       "    </tr>\n",
       "  </thead>\n",
       "  <tbody>\n",
       "    <tr>\n",
       "      <th>0</th>\n",
       "      <td>0</td>\n",
       "      <td>3</td>\n",
       "      <td>22.0</td>\n",
       "      <td>1</td>\n",
       "      <td>0</td>\n",
       "      <td>0</td>\n",
       "      <td>1</td>\n",
       "    </tr>\n",
       "    <tr>\n",
       "      <th>1</th>\n",
       "      <td>1</td>\n",
       "      <td>1</td>\n",
       "      <td>38.0</td>\n",
       "      <td>1</td>\n",
       "      <td>0</td>\n",
       "      <td>1</td>\n",
       "      <td>0</td>\n",
       "    </tr>\n",
       "    <tr>\n",
       "      <th>2</th>\n",
       "      <td>1</td>\n",
       "      <td>3</td>\n",
       "      <td>26.0</td>\n",
       "      <td>0</td>\n",
       "      <td>0</td>\n",
       "      <td>1</td>\n",
       "      <td>0</td>\n",
       "    </tr>\n",
       "    <tr>\n",
       "      <th>3</th>\n",
       "      <td>1</td>\n",
       "      <td>1</td>\n",
       "      <td>35.0</td>\n",
       "      <td>1</td>\n",
       "      <td>0</td>\n",
       "      <td>1</td>\n",
       "      <td>0</td>\n",
       "    </tr>\n",
       "    <tr>\n",
       "      <th>4</th>\n",
       "      <td>0</td>\n",
       "      <td>3</td>\n",
       "      <td>35.0</td>\n",
       "      <td>0</td>\n",
       "      <td>0</td>\n",
       "      <td>0</td>\n",
       "      <td>1</td>\n",
       "    </tr>\n",
       "  </tbody>\n",
       "</table>\n",
       "</div>"
      ],
      "text/plain": [
       "   Survived  Pclass   Age  SibSp  Parch  Sex_female  Sex_male\n",
       "0         0       3  22.0      1      0           0         1\n",
       "1         1       1  38.0      1      0           1         0\n",
       "2         1       3  26.0      0      0           1         0\n",
       "3         1       1  35.0      1      0           1         0\n",
       "4         0       3  35.0      0      0           0         1"
      ]
     },
     "execution_count": 7,
     "metadata": {},
     "output_type": "execute_result"
    }
   ],
   "source": [
    "df3 = pd.get_dummies(df2)\n",
    "df3.head()"
   ]
  },
  {
   "cell_type": "code",
   "execution_count": 8,
   "metadata": {},
   "outputs": [
    {
     "name": "stdout",
     "output_type": "stream",
     "text": [
      "Labels for training and testing data\n",
      "     Pclass  Sex_male  Sex_female        Age  SibSp  Parch\n",
      "199       2         0           1  24.000000      0      0\n",
      "468       3         1           0  29.699118      0      0\n",
      "198       3         0           1  29.699118      0      0\n",
      "574       3         1           0  16.000000      0      0\n",
      "776       3         1           0  29.699118      0      0\n",
      "..      ...       ...         ...        ...    ...    ...\n",
      "737       1         1           0  35.000000      0      0\n",
      "360       3         1           0  40.000000      1      4\n",
      "669       1         0           1  29.699118      1      0\n",
      "245       1         1           0  44.000000      2      0\n",
      "768       3         1           0  29.699118      1      0\n",
      "\n",
      "[623 rows x 6 columns]\n"
     ]
    }
   ],
   "source": [
    "from sklearn.model_selection import train_test_split\n",
    "\n",
    "train_X, test_X, train_y, test_y = train_test_split(df3[['Pclass','Sex_male','Sex_female','Age','SibSp','Parch']], \n",
    "                                                    df3['Survived'], \n",
    "                                                    train_size=0.7,\n",
    "                                                    stratify=df3['Survived'].values,\n",
    "                                                    random_state=123)\n",
    "print(\"Labels for training and testing data\")\n",
    "print(train_X)"
   ]
  },
  {
   "cell_type": "code",
   "execution_count": 9,
   "metadata": {},
   "outputs": [
    {
     "name": "stdout",
     "output_type": "stream",
     "text": [
      "Training :  [61.63723917 38.36276083]\n",
      "Testing :  [61.56716418 38.43283582]\n"
     ]
    }
   ],
   "source": [
    "print('Training : ', np.bincount(train_y) / float(len(train_y)) * 100.0)\n",
    "print('Testing : ', np.bincount(test_y) / float(len(test_y)) * 100.0)"
   ]
  },
  {
   "cell_type": "code",
   "execution_count": 10,
   "metadata": {
    "collapsed": false,
    "jupyter": {
     "outputs_hidden": false
    }
   },
   "outputs": [
    {
     "name": "stderr",
     "output_type": "stream",
     "text": [
      "[Parallel(n_jobs=-1)]: Using backend ThreadingBackend with 12 concurrent workers.\n",
      "[Parallel(n_jobs=-1)]: Done  26 tasks      | elapsed:    0.0s\n",
      "[Parallel(n_jobs=-1)]: Done 176 tasks      | elapsed:    0.0s\n",
      "[Parallel(n_jobs=-1)]: Done 426 tasks      | elapsed:    0.2s\n",
      "[Parallel(n_jobs=-1)]: Done 776 tasks      | elapsed:    0.4s\n",
      "[Parallel(n_jobs=-1)]: Done 1226 tasks      | elapsed:    0.7s\n",
      "[Parallel(n_jobs=-1)]: Done 1776 tasks      | elapsed:    1.0s\n",
      "[Parallel(n_jobs=-1)]: Done 2426 tasks      | elapsed:    1.5s\n",
      "[Parallel(n_jobs=-1)]: Done 3176 tasks      | elapsed:    2.0s\n",
      "[Parallel(n_jobs=-1)]: Done 4026 tasks      | elapsed:    2.7s\n",
      "[Parallel(n_jobs=-1)]: Done 4976 tasks      | elapsed:    3.5s\n",
      "[Parallel(n_jobs=-1)]: Done 6026 tasks      | elapsed:    4.3s\n",
      "[Parallel(n_jobs=-1)]: Done 7176 tasks      | elapsed:    5.2s\n",
      "[Parallel(n_jobs=-1)]: Done 8426 tasks      | elapsed:    6.2s\n",
      "[Parallel(n_jobs=-1)]: Done 9776 tasks      | elapsed:    7.2s\n",
      "[Parallel(n_jobs=-1)]: Done 11226 tasks      | elapsed:    8.3s\n",
      "[Parallel(n_jobs=-1)]: Done 12776 tasks      | elapsed:    9.4s\n",
      "[Parallel(n_jobs=-1)]: Done 14426 tasks      | elapsed:   10.6s\n",
      "[Parallel(n_jobs=-1)]: Done 16176 tasks      | elapsed:   11.9s\n",
      "[Parallel(n_jobs=-1)]: Done 18026 tasks      | elapsed:   13.4s\n",
      "[Parallel(n_jobs=-1)]: Done 19976 tasks      | elapsed:   14.9s\n",
      "[Parallel(n_jobs=-1)]: Done 22026 tasks      | elapsed:   16.6s\n",
      "[Parallel(n_jobs=-1)]: Done 24176 tasks      | elapsed:   18.7s\n",
      "[Parallel(n_jobs=-1)]: Done 26426 tasks      | elapsed:   20.8s\n",
      "[Parallel(n_jobs=-1)]: Done 28776 tasks      | elapsed:   22.7s\n",
      "[Parallel(n_jobs=-1)]: Done 31226 tasks      | elapsed:   24.7s\n",
      "[Parallel(n_jobs=-1)]: Done 33776 tasks      | elapsed:   27.1s\n",
      "[Parallel(n_jobs=-1)]: Done 36426 tasks      | elapsed:   29.3s\n",
      "[Parallel(n_jobs=-1)]: Done 39176 tasks      | elapsed:   31.5s\n",
      "[Parallel(n_jobs=-1)]: Done 42026 tasks      | elapsed:   33.7s\n",
      "[Parallel(n_jobs=-1)]: Done 44976 tasks      | elapsed:   35.9s\n",
      "[Parallel(n_jobs=-1)]: Done 48026 tasks      | elapsed:   38.2s\n",
      "[Parallel(n_jobs=-1)]: Done 50000 out of 50000 | elapsed:   39.7s finished\n"
     ]
    },
    {
     "data": {
      "text/plain": [
       "RandomForestClassifier(bootstrap=True, class_weight=None, criterion='entropy',\n",
       "                       max_depth=5, max_features='auto', max_leaf_nodes=None,\n",
       "                       min_impurity_decrease=0.0, min_impurity_split=None,\n",
       "                       min_samples_leaf=1, min_samples_split=2,\n",
       "                       min_weight_fraction_leaf=0.0, n_estimators=50000,\n",
       "                       n_jobs=-1, oob_score=True, random_state=1234,\n",
       "                       verbose=True, warm_start=False)"
      ]
     },
     "execution_count": 10,
     "metadata": {},
     "output_type": "execute_result"
    }
   ],
   "source": [
    "from sklearn.model_selection import GridSearchCV\n",
    "from sklearn.ensemble import RandomForestClassifier\n",
    "\n",
    "# Create a random forest Classifier. By convention, clf means 'Classifier'\n",
    "clf = RandomForestClassifier(n_estimators=50000, oob_score=True, max_depth=5,\n",
    "                             criterion='entropy', random_state=1234,\n",
    "                             verbose=True, n_jobs=-1)\n",
    "\n",
    "# Train the Classifier to take the training features and learn how they relate\n",
    "# to the training y (the species)\n",
    "clf.fit(train_X, train_y)"
   ]
  },
  {
   "cell_type": "code",
   "execution_count": 11,
   "metadata": {},
   "outputs": [
    {
     "name": "stderr",
     "output_type": "stream",
     "text": [
      "[Parallel(n_jobs=12)]: Using backend ThreadingBackend with 12 concurrent workers.\n",
      "[Parallel(n_jobs=12)]: Done  26 tasks      | elapsed:    0.0s\n",
      "[Parallel(n_jobs=12)]: Done 176 tasks      | elapsed:    0.0s\n",
      "[Parallel(n_jobs=12)]: Done 426 tasks      | elapsed:    0.0s\n",
      "[Parallel(n_jobs=12)]: Done 776 tasks      | elapsed:    0.1s\n",
      "[Parallel(n_jobs=12)]: Done 1226 tasks      | elapsed:    0.2s\n",
      "[Parallel(n_jobs=12)]: Done 1776 tasks      | elapsed:    0.4s\n",
      "[Parallel(n_jobs=12)]: Done 2426 tasks      | elapsed:    0.6s\n",
      "[Parallel(n_jobs=12)]: Done 3176 tasks      | elapsed:    0.8s\n",
      "[Parallel(n_jobs=12)]: Done 4026 tasks      | elapsed:    1.0s\n",
      "[Parallel(n_jobs=12)]: Done 4976 tasks      | elapsed:    1.3s\n",
      "[Parallel(n_jobs=12)]: Done 6026 tasks      | elapsed:    1.6s\n",
      "[Parallel(n_jobs=12)]: Done 7176 tasks      | elapsed:    1.9s\n",
      "[Parallel(n_jobs=12)]: Done 8426 tasks      | elapsed:    2.3s\n",
      "[Parallel(n_jobs=12)]: Done 9776 tasks      | elapsed:    2.6s\n",
      "[Parallel(n_jobs=12)]: Done 11226 tasks      | elapsed:    3.0s\n",
      "[Parallel(n_jobs=12)]: Done 12776 tasks      | elapsed:    3.4s\n",
      "[Parallel(n_jobs=12)]: Done 14426 tasks      | elapsed:    3.9s\n",
      "[Parallel(n_jobs=12)]: Done 16176 tasks      | elapsed:    4.4s\n",
      "[Parallel(n_jobs=12)]: Done 18026 tasks      | elapsed:    4.9s\n",
      "[Parallel(n_jobs=12)]: Done 19976 tasks      | elapsed:    5.4s\n",
      "[Parallel(n_jobs=12)]: Done 22026 tasks      | elapsed:    6.0s\n",
      "[Parallel(n_jobs=12)]: Done 24176 tasks      | elapsed:    6.5s\n",
      "[Parallel(n_jobs=12)]: Done 26426 tasks      | elapsed:    7.1s\n",
      "[Parallel(n_jobs=12)]: Done 28776 tasks      | elapsed:    7.7s\n",
      "[Parallel(n_jobs=12)]: Done 31226 tasks      | elapsed:    8.3s\n",
      "[Parallel(n_jobs=12)]: Done 33776 tasks      | elapsed:    9.0s\n",
      "[Parallel(n_jobs=12)]: Done 36426 tasks      | elapsed:    9.6s\n",
      "[Parallel(n_jobs=12)]: Done 39176 tasks      | elapsed:   10.3s\n",
      "[Parallel(n_jobs=12)]: Done 42026 tasks      | elapsed:   11.0s\n",
      "[Parallel(n_jobs=12)]: Done 44976 tasks      | elapsed:   11.8s\n",
      "[Parallel(n_jobs=12)]: Done 48026 tasks      | elapsed:   12.6s\n",
      "[Parallel(n_jobs=12)]: Done 50000 out of 50000 | elapsed:   13.1s finished\n"
     ]
    },
    {
     "data": {
      "text/plain": [
       "0.8443017656500803"
      ]
     },
     "execution_count": 11,
     "metadata": {},
     "output_type": "execute_result"
    }
   ],
   "source": [
    "clf.score(train_X, train_y)"
   ]
  },
  {
   "cell_type": "code",
   "execution_count": 14,
   "metadata": {},
   "outputs": [
    {
     "data": {
      "text/plain": [
       "0.8218298555377207"
      ]
     },
     "execution_count": 14,
     "metadata": {},
     "output_type": "execute_result"
    }
   ],
   "source": [
    "clf.oob_score_"
   ]
  },
  {
   "cell_type": "code",
   "execution_count": 15,
   "metadata": {},
   "outputs": [],
   "source": [
    "\n",
    "from sklearn.metrics import classification_report\n",
    "from sklearn.metrics import confusion_matrix\n"
   ]
  },
  {
   "cell_type": "code",
   "execution_count": 16,
   "metadata": {},
   "outputs": [
    {
     "name": "stdout",
     "output_type": "stream",
     "text": [
      "Predicting Titanic on the train set using Random Forest\n"
     ]
    },
    {
     "name": "stderr",
     "output_type": "stream",
     "text": [
      "[Parallel(n_jobs=12)]: Using backend ThreadingBackend with 12 concurrent workers.\n",
      "[Parallel(n_jobs=12)]: Done  26 tasks      | elapsed:    0.0s\n",
      "[Parallel(n_jobs=12)]: Done 176 tasks      | elapsed:    0.0s\n",
      "[Parallel(n_jobs=12)]: Done 426 tasks      | elapsed:    0.0s\n",
      "[Parallel(n_jobs=12)]: Done 776 tasks      | elapsed:    0.1s\n",
      "[Parallel(n_jobs=12)]: Done 1226 tasks      | elapsed:    0.3s\n",
      "[Parallel(n_jobs=12)]: Done 1776 tasks      | elapsed:    0.4s\n",
      "[Parallel(n_jobs=12)]: Done 2426 tasks      | elapsed:    0.5s\n",
      "[Parallel(n_jobs=12)]: Done 3176 tasks      | elapsed:    0.7s\n",
      "[Parallel(n_jobs=12)]: Done 4026 tasks      | elapsed:    0.9s\n",
      "[Parallel(n_jobs=12)]: Done 4976 tasks      | elapsed:    1.2s\n",
      "[Parallel(n_jobs=12)]: Done 6026 tasks      | elapsed:    1.4s\n",
      "[Parallel(n_jobs=12)]: Done 7176 tasks      | elapsed:    1.6s\n",
      "[Parallel(n_jobs=12)]: Done 8426 tasks      | elapsed:    1.9s\n",
      "[Parallel(n_jobs=12)]: Done 9776 tasks      | elapsed:    2.2s\n",
      "[Parallel(n_jobs=12)]: Done 11226 tasks      | elapsed:    2.5s\n",
      "[Parallel(n_jobs=12)]: Done 12776 tasks      | elapsed:    2.8s\n",
      "[Parallel(n_jobs=12)]: Done 14426 tasks      | elapsed:    3.2s\n",
      "[Parallel(n_jobs=12)]: Done 16176 tasks      | elapsed:    3.6s\n",
      "[Parallel(n_jobs=12)]: Done 18026 tasks      | elapsed:    4.0s\n",
      "[Parallel(n_jobs=12)]: Done 19976 tasks      | elapsed:    4.4s\n",
      "[Parallel(n_jobs=12)]: Done 22026 tasks      | elapsed:    4.9s\n",
      "[Parallel(n_jobs=12)]: Done 24176 tasks      | elapsed:    5.3s\n",
      "[Parallel(n_jobs=12)]: Done 26426 tasks      | elapsed:    5.8s\n",
      "[Parallel(n_jobs=12)]: Done 28776 tasks      | elapsed:    6.3s\n",
      "[Parallel(n_jobs=12)]: Done 31226 tasks      | elapsed:    6.8s\n",
      "[Parallel(n_jobs=12)]: Done 33776 tasks      | elapsed:    7.4s\n",
      "[Parallel(n_jobs=12)]: Done 36426 tasks      | elapsed:    8.0s\n",
      "[Parallel(n_jobs=12)]: Done 39176 tasks      | elapsed:    8.6s\n",
      "[Parallel(n_jobs=12)]: Done 42026 tasks      | elapsed:    9.3s\n",
      "[Parallel(n_jobs=12)]: Done 44976 tasks      | elapsed:   10.0s\n",
      "[Parallel(n_jobs=12)]: Done 48026 tasks      | elapsed:   10.9s\n"
     ]
    },
    {
     "name": "stdout",
     "output_type": "stream",
     "text": [
      "Accurary :  0.8443\n",
      "              precision    recall  f1-score   support\n",
      "\n",
      "           0       0.85      0.91      0.88       384\n",
      "           1       0.83      0.74      0.79       239\n",
      "\n",
      "    accuracy                           0.84       623\n",
      "   macro avg       0.84      0.83      0.83       623\n",
      "weighted avg       0.84      0.84      0.84       623\n",
      "\n",
      "[[348  36]\n",
      " [ 61 178]]\n"
     ]
    },
    {
     "name": "stderr",
     "output_type": "stream",
     "text": [
      "[Parallel(n_jobs=12)]: Done 50000 out of 50000 | elapsed:   11.4s finished\n"
     ]
    }
   ],
   "source": [
    "from sklearn.metrics import accuracy_score\n",
    "print(\"Predicting Titanic on the train set using Random Forest\")\n",
    "\n",
    "y_train_pred = clf.predict(train_X)\n",
    "\n",
    "print(\"Accurary : \", round(accuracy_score(train_y, y_train_pred),4))\n",
    "print(classification_report(train_y, y_train_pred))\n",
    "print(confusion_matrix(train_y, y_train_pred))\n"
   ]
  },
  {
   "cell_type": "code",
   "execution_count": 17,
   "metadata": {},
   "outputs": [
    {
     "name": "stdout",
     "output_type": "stream",
     "text": [
      "Predicting Titanic on the test set using Random Forest\n"
     ]
    },
    {
     "name": "stderr",
     "output_type": "stream",
     "text": [
      "[Parallel(n_jobs=12)]: Using backend ThreadingBackend with 12 concurrent workers.\n",
      "[Parallel(n_jobs=12)]: Done  26 tasks      | elapsed:    0.0s\n",
      "[Parallel(n_jobs=12)]: Done 176 tasks      | elapsed:    0.0s\n",
      "[Parallel(n_jobs=12)]: Done 426 tasks      | elapsed:    0.0s\n",
      "[Parallel(n_jobs=12)]: Done 776 tasks      | elapsed:    0.1s\n",
      "[Parallel(n_jobs=12)]: Done 1226 tasks      | elapsed:    0.2s\n",
      "[Parallel(n_jobs=12)]: Done 1776 tasks      | elapsed:    0.3s\n",
      "[Parallel(n_jobs=12)]: Done 2426 tasks      | elapsed:    0.4s\n",
      "[Parallel(n_jobs=12)]: Done 3176 tasks      | elapsed:    0.6s\n",
      "[Parallel(n_jobs=12)]: Done 4026 tasks      | elapsed:    0.7s\n",
      "[Parallel(n_jobs=12)]: Done 4976 tasks      | elapsed:    0.9s\n",
      "[Parallel(n_jobs=12)]: Done 6026 tasks      | elapsed:    1.1s\n",
      "[Parallel(n_jobs=12)]: Done 7176 tasks      | elapsed:    1.3s\n",
      "[Parallel(n_jobs=12)]: Done 8426 tasks      | elapsed:    1.6s\n",
      "[Parallel(n_jobs=12)]: Done 9776 tasks      | elapsed:    1.8s\n",
      "[Parallel(n_jobs=12)]: Done 11226 tasks      | elapsed:    2.1s\n",
      "[Parallel(n_jobs=12)]: Done 12776 tasks      | elapsed:    2.5s\n",
      "[Parallel(n_jobs=12)]: Done 14426 tasks      | elapsed:    2.8s\n",
      "[Parallel(n_jobs=12)]: Done 16176 tasks      | elapsed:    3.2s\n",
      "[Parallel(n_jobs=12)]: Done 18026 tasks      | elapsed:    3.6s\n",
      "[Parallel(n_jobs=12)]: Done 19976 tasks      | elapsed:    3.9s\n",
      "[Parallel(n_jobs=12)]: Done 22026 tasks      | elapsed:    4.3s\n",
      "[Parallel(n_jobs=12)]: Done 24176 tasks      | elapsed:    4.7s\n",
      "[Parallel(n_jobs=12)]: Done 26426 tasks      | elapsed:    5.2s\n",
      "[Parallel(n_jobs=12)]: Done 28776 tasks      | elapsed:    5.6s\n",
      "[Parallel(n_jobs=12)]: Done 31226 tasks      | elapsed:    6.0s\n",
      "[Parallel(n_jobs=12)]: Done 33776 tasks      | elapsed:    6.6s\n",
      "[Parallel(n_jobs=12)]: Done 36426 tasks      | elapsed:    7.1s\n",
      "[Parallel(n_jobs=12)]: Done 39176 tasks      | elapsed:    7.7s\n",
      "[Parallel(n_jobs=12)]: Done 42026 tasks      | elapsed:    8.3s\n",
      "[Parallel(n_jobs=12)]: Done 44976 tasks      | elapsed:    9.0s\n",
      "[Parallel(n_jobs=12)]: Done 48026 tasks      | elapsed:    9.7s\n"
     ]
    },
    {
     "name": "stdout",
     "output_type": "stream",
     "text": [
      "Accurary :  0.8209\n",
      "              precision    recall  f1-score   support\n",
      "\n",
      "           0       0.82      0.91      0.86       165\n",
      "           1       0.82      0.68      0.74       103\n",
      "\n",
      "    accuracy                           0.82       268\n",
      "   macro avg       0.82      0.79      0.80       268\n",
      "weighted avg       0.82      0.82      0.82       268\n",
      "\n",
      "[[150  15]\n",
      " [ 33  70]]\n"
     ]
    },
    {
     "name": "stderr",
     "output_type": "stream",
     "text": [
      "[Parallel(n_jobs=12)]: Done 50000 out of 50000 | elapsed:   10.2s finished\n"
     ]
    }
   ],
   "source": [
    "print(\"Predicting Titanic on the test set using Random Forest\")\n",
    "\n",
    "y_pred = clf.predict(test_X)\n",
    "\n",
    "print(\"Accurary : \", round(accuracy_score(test_y, y_pred),4))\n",
    "print(classification_report(test_y, y_pred))\n",
    "print(confusion_matrix(test_y, y_pred))\n"
   ]
  },
  {
   "cell_type": "code",
   "execution_count": 18,
   "metadata": {},
   "outputs": [
    {
     "data": {
      "image/png": "[encoded data removed]",
      "text/plain": [
       "<Figure size 432x288 with 2 Axes>"
      ]
     },
     "metadata": {
      "needs_background": "light"
     },
     "output_type": "display_data"
    }
   ],
   "source": [
    "import scikitplot as skplt\n",
    "skplt.metrics.plot_confusion_matrix(test_y, y_pred, normalize=True)\n",
    "plt.show()"
   ]
  },
  {
   "cell_type": "code",
   "execution_count": 19,
   "metadata": {},
   "outputs": [
    {
     "name": "stdout",
     "output_type": "stream",
     "text": [
      "AUC: 0.794\n"
     ]
    }
   ],
   "source": [
    "from sklearn.metrics import roc_auc_score\n",
    "# calculate AUC\n",
    "auc = roc_auc_score(test_y, y_pred)\n",
    "print('AUC: %.3f' % auc)"
   ]
  },
  {
   "cell_type": "code",
   "execution_count": 20,
   "metadata": {},
   "outputs": [
    {
     "name": "stderr",
     "output_type": "stream",
     "text": [
      "C:\\Users\\iphon\\Anaconda3\\envs\\softwarepark\\lib\\site-packages\\sklearn\\model_selection\\_split.py:1978: FutureWarning: The default value of cv will change from 3 to 5 in version 0.22. Specify it explicitly to silence this warning.\n",
      "  warnings.warn(CV_WARNING, FutureWarning)\n"
     ]
    },
    {
     "data": {
      "text/plain": [
       "0.7752849002849004"
      ]
     },
     "execution_count": 20,
     "metadata": {},
     "output_type": "execute_result"
    }
   ],
   "source": [
    "from sklearn.model_selection import cross_val_score\n",
    "from sklearn.ensemble import AdaBoostClassifier\n",
    "\n",
    "ada_clf = AdaBoostClassifier(n_estimators=100, random_state=1234)\n",
    "\n",
    "ada_clf.fit(train_X, train_y)\n",
    "scores = cross_val_score(ada_clf, train_X, train_y)\n",
    "scores.mean()  "
   ]
  },
  {
   "cell_type": "code",
   "execution_count": 21,
   "metadata": {},
   "outputs": [
    {
     "name": "stdout",
     "output_type": "stream",
     "text": [
      "Predicting Titanic on the train set using Adaboost\n",
      "Accurary :  0.8459\n",
      "              precision    recall  f1-score   support\n",
      "\n",
      "           0       0.86      0.90      0.88       384\n",
      "           1       0.82      0.76      0.79       239\n",
      "\n",
      "    accuracy                           0.85       623\n",
      "   macro avg       0.84      0.83      0.83       623\n",
      "weighted avg       0.84      0.85      0.84       623\n",
      "\n",
      "[[345  39]\n",
      " [ 57 182]]\n"
     ]
    }
   ],
   "source": [
    "print(\"Predicting Titanic on the train set using Adaboost\")\n",
    "\n",
    "y_train_pred = ada_clf.predict(train_X)\n",
    "\n",
    "print(\"Accurary : \", round(accuracy_score(train_y, y_train_pred),4))\n",
    "print(classification_report(train_y, y_train_pred))\n",
    "print(confusion_matrix(train_y, y_train_pred))\n"
   ]
  },
  {
   "cell_type": "code",
   "execution_count": 22,
   "metadata": {},
   "outputs": [
    {
     "name": "stdout",
     "output_type": "stream",
     "text": [
      "Predicting Titanic on the test set using Adaboost\n",
      "Accurary :  0.8134\n",
      "              precision    recall  f1-score   support\n",
      "\n",
      "           0       0.82      0.90      0.86       165\n",
      "           1       0.80      0.68      0.74       103\n",
      "\n",
      "    accuracy                           0.81       268\n",
      "   macro avg       0.81      0.79      0.80       268\n",
      "weighted avg       0.81      0.81      0.81       268\n",
      "\n",
      "[[148  17]\n",
      " [ 33  70]]\n"
     ]
    }
   ],
   "source": [
    "print(\"Predicting Titanic on the test set using Adaboost\")\n",
    "\n",
    "y_pred = ada_clf.predict(test_X)\n",
    "\n",
    "print(\"Accurary : \", round(accuracy_score(test_y, y_pred),4))\n",
    "print(classification_report(test_y, y_pred))\n",
    "print(confusion_matrix(test_y, y_pred))\n"
   ]
  },
  {
   "cell_type": "code",
   "execution_count": 23,
   "metadata": {},
   "outputs": [
    {
     "name": "stdout",
     "output_type": "stream",
     "text": [
      "AUC: 0.788\n"
     ]
    }
   ],
   "source": [
    "from sklearn.metrics import roc_auc_score\n",
    "# calculate AUC\n",
    "auc = roc_auc_score(test_y, y_pred)\n",
    "print('AUC: %.3f' % auc)"
   ]
  },
  {
   "cell_type": "code",
   "execution_count": null,
   "metadata": {},
   "outputs": [],
   "source": []
  }
 ],
 "metadata": {
  "kernelspec": {
   "display_name": "Python 3 (ipykernel)",
   "language": "python",
   "name": "python3"
  },
  "language_info": {
   "codemirror_mode": {
    "name": "ipython",
    "version": 3
   },
   "file_extension": ".py",
   "mimetype": "text/x-python",
   "name": "python",
   "nbconvert_exporter": "python",
   "pygments_lexer": "ipython3",
   "version": "3.11.0"
  }
 },
 "nbformat": 4,
 "nbformat_minor": 4
}
