{
 "cells": [
  {
   "cell_type": "markdown",
   "metadata": {},
   "source": [
    "# Workshop # 2 : Data Processing"
   ]
  },
  {
   "cell_type": "code",
   "execution_count": 1,
   "metadata": {},
   "outputs": [],
   "source": [
    "#Import Python Libraries\n",
    "import numpy as np\n",
    "import scipy as sp\n",
    "import pandas as pd\n",
    "import matplotlib.pyplot as plt\n",
    "import seaborn as sns"
   ]
  },
  {
   "cell_type": "code",
   "execution_count": 2,
   "metadata": {},
   "outputs": [
    {
     "data": {
      "text/plain": [
       "Index(['PassengerId', 'Survived', 'Pclass', 'Name', 'Sex', 'Age', 'SibSp',\n",
       "       'Parch', 'Ticket', 'Fare', 'Cabin', 'Embarked'],\n",
       "      dtype='object')"
      ]
     },
     "execution_count": 2,
     "metadata": {},
     "output_type": "execute_result"
    }
   ],
   "source": [
    "# Read data\n",
    "df = pd.read_csv(\"titanic-train.csv\")\n",
    "\n",
    "df.columns"
   ]
  },
  {
   "cell_type": "markdown",
   "metadata": {},
   "source": [
    "## เลือก Variables ที่คิดว่ามีผลกับการทำนาย การรอดตายของผู้ขึ้นเรือ Titanic จาก df แล้ว save เข้า df2"
   ]
  },
  {
   "cell_type": "code",
   "execution_count": 3,
   "metadata": {},
   "outputs": [
    {
     "data": {
      "text/html": [
       "<div>\n",
       "<style scoped>\n",
       "    .dataframe tbody tr th:only-of-type {\n",
       "        vertical-align: middle;\n",
       "    }\n",
       "\n",
       "    .dataframe tbody tr th {\n",
       "        vertical-align: top;\n",
       "    }\n",
       "\n",
       "    .dataframe thead th {\n",
       "        text-align: right;\n",
       "    }\n",
       "</style>\n",
       "<table border=\"1\" class=\"dataframe\">\n",
       "  <thead>\n",
       "    <tr style=\"text-align: right;\">\n",
       "      <th></th>\n",
       "      <th>Survived</th>\n",
       "      <th>Pclass</th>\n",
       "      <th>Sex</th>\n",
       "      <th>Age</th>\n",
       "      <th>SibSp</th>\n",
       "      <th>Parch</th>\n",
       "    </tr>\n",
       "  </thead>\n",
       "  <tbody>\n",
       "    <tr>\n",
       "      <th>0</th>\n",
       "      <td>0</td>\n",
       "      <td>3</td>\n",
       "      <td>male</td>\n",
       "      <td>22.0</td>\n",
       "      <td>1</td>\n",
       "      <td>0</td>\n",
       "    </tr>\n",
       "    <tr>\n",
       "      <th>1</th>\n",
       "      <td>1</td>\n",
       "      <td>1</td>\n",
       "      <td>female</td>\n",
       "      <td>38.0</td>\n",
       "      <td>1</td>\n",
       "      <td>0</td>\n",
       "    </tr>\n",
       "    <tr>\n",
       "      <th>2</th>\n",
       "      <td>1</td>\n",
       "      <td>3</td>\n",
       "      <td>female</td>\n",
       "      <td>26.0</td>\n",
       "      <td>0</td>\n",
       "      <td>0</td>\n",
       "    </tr>\n",
       "    <tr>\n",
       "      <th>3</th>\n",
       "      <td>1</td>\n",
       "      <td>1</td>\n",
       "      <td>female</td>\n",
       "      <td>35.0</td>\n",
       "      <td>1</td>\n",
       "      <td>0</td>\n",
       "    </tr>\n",
       "    <tr>\n",
       "      <th>4</th>\n",
       "      <td>0</td>\n",
       "      <td>3</td>\n",
       "      <td>male</td>\n",
       "      <td>35.0</td>\n",
       "      <td>0</td>\n",
       "      <td>0</td>\n",
       "    </tr>\n",
       "    <tr>\n",
       "      <th>...</th>\n",
       "      <td>...</td>\n",
       "      <td>...</td>\n",
       "      <td>...</td>\n",
       "      <td>...</td>\n",
       "      <td>...</td>\n",
       "      <td>...</td>\n",
       "    </tr>\n",
       "    <tr>\n",
       "      <th>886</th>\n",
       "      <td>0</td>\n",
       "      <td>2</td>\n",
       "      <td>male</td>\n",
       "      <td>27.0</td>\n",
       "      <td>0</td>\n",
       "      <td>0</td>\n",
       "    </tr>\n",
       "    <tr>\n",
       "      <th>887</th>\n",
       "      <td>1</td>\n",
       "      <td>1</td>\n",
       "      <td>female</td>\n",
       "      <td>19.0</td>\n",
       "      <td>0</td>\n",
       "      <td>0</td>\n",
       "    </tr>\n",
       "    <tr>\n",
       "      <th>888</th>\n",
       "      <td>0</td>\n",
       "      <td>3</td>\n",
       "      <td>female</td>\n",
       "      <td>NaN</td>\n",
       "      <td>1</td>\n",
       "      <td>2</td>\n",
       "    </tr>\n",
       "    <tr>\n",
       "      <th>889</th>\n",
       "      <td>1</td>\n",
       "      <td>1</td>\n",
       "      <td>male</td>\n",
       "      <td>26.0</td>\n",
       "      <td>0</td>\n",
       "      <td>0</td>\n",
       "    </tr>\n",
       "    <tr>\n",
       "      <th>890</th>\n",
       "      <td>0</td>\n",
       "      <td>3</td>\n",
       "      <td>male</td>\n",
       "      <td>32.0</td>\n",
       "      <td>0</td>\n",
       "      <td>0</td>\n",
       "    </tr>\n",
       "  </tbody>\n",
       "</table>\n",
       "<p>891 rows × 6 columns</p>\n",
       "</div>"
      ],
      "text/plain": [
       "     Survived  Pclass     Sex   Age  SibSp  Parch\n",
       "0           0       3    male  22.0      1      0\n",
       "1           1       1  female  38.0      1      0\n",
       "2           1       3  female  26.0      0      0\n",
       "3           1       1  female  35.0      1      0\n",
       "4           0       3    male  35.0      0      0\n",
       "..        ...     ...     ...   ...    ...    ...\n",
       "886         0       2    male  27.0      0      0\n",
       "887         1       1  female  19.0      0      0\n",
       "888         0       3  female   NaN      1      2\n",
       "889         1       1    male  26.0      0      0\n",
       "890         0       3    male  32.0      0      0\n",
       "\n",
       "[891 rows x 6 columns]"
      ]
     },
     "execution_count": 3,
     "metadata": {},
     "output_type": "execute_result"
    }
   ],
   "source": [
    "df2 = df.loc[:,['Survived', 'Pclass', 'Sex', 'Age', 'SibSp', 'Parch']]\n",
    "df2"
   ]
  },
  {
   "cell_type": "code",
   "execution_count": 4,
   "metadata": {},
   "outputs": [
    {
     "data": {
      "text/plain": [
       "Survived      int64\n",
       "Pclass        int64\n",
       "Sex          object\n",
       "Age         float64\n",
       "SibSp         int64\n",
       "Parch         int64\n",
       "dtype: object"
      ]
     },
     "execution_count": 4,
     "metadata": {},
     "output_type": "execute_result"
    }
   ],
   "source": [
    "df2.dtypes"
   ]
  },
  {
   "cell_type": "markdown",
   "metadata": {},
   "source": [
    "## ดูจำนวน Missing values ในแต่ละ Variables"
   ]
  },
  {
   "cell_type": "code",
   "execution_count": 5,
   "metadata": {},
   "outputs": [
    {
     "name": "stdout",
     "output_type": "stream",
     "text": [
      "Survived missing  0\n",
      "Age missing  177\n",
      "PClass missing  0\n",
      "SibSp missing  0\n",
      "Parch missing  0\n",
      "Survived missing  0\n"
     ]
    }
   ],
   "source": [
    "print('Survived missing ', df2['Survived'].isnull().sum())\n",
    "print('Age missing ', df2['Age'].isnull().sum())\n",
    "print('PClass missing ', df2['Pclass'].isnull().sum())\n",
    "print('SibSp missing ', df2['SibSp'].isnull().sum())\n",
    "print('Parch missing ', df2['Parch'].isnull().sum())\n",
    "print('Survived missing ', df2['Survived'].isnull().sum())"
   ]
  },
  {
   "cell_type": "markdown",
   "metadata": {},
   "source": [
    "## ทดแทน Missing Values ด้วย ค่า Means"
   ]
  },
  {
   "cell_type": "markdown",
   "metadata": {},
   "source": [
    "โดยปกติแล้วเราสามารถ จัดการกับ Missing Values ได้ดังนี้\n",
    "- Remove ออกทั้ง Observation\n",
    "- Replace ด้วย Means สำหรับ variable ที่เป็น Numerical"
   ]
  },
  {
   "cell_type": "code",
   "execution_count": 6,
   "metadata": {},
   "outputs": [
    {
     "name": "stdout",
     "output_type": "stream",
     "text": [
      "Age missing  0\n"
     ]
    }
   ],
   "source": [
    "df2['Age'] = df2['Age'].fillna(df2['Age'].mean())\n",
    "\n",
    "print('Age missing ', df2['Age'].isnull().sum())"
   ]
  },
  {
   "cell_type": "markdown",
   "metadata": {},
   "source": [
    "## Split Data ออกเป็น 2 ก้อน Training Set กับ Test Set"
   ]
  },
  {
   "cell_type": "code",
   "execution_count": 7,
   "metadata": {},
   "outputs": [
    {
     "name": "stdout",
     "output_type": "stream",
     "text": [
      "Labels for training and testing data\n",
      "<pandas.core.groupby.generic.DataFrameGroupBy object at 0x14e17d850>\n"
     ]
    }
   ],
   "source": [
    "from sklearn.model_selection import train_test_split\n",
    "\n",
    "train_X, test_X, train_y, test_y = train_test_split(df2[['Pclass','Sex','Age','SibSp','Parch']], \n",
    "                                                    df2['Survived'], \n",
    "                                                    train_size=0.7, \n",
    "                                                    random_state=123,\n",
    "                                                    stratify=df2['Survived'])\n",
    "print(\"Labels for training and testing data\")\n",
    "print(df2.groupby(['Survived']))"
   ]
  },
  {
   "cell_type": "markdown",
   "metadata": {},
   "source": [
    "## Label Encode Variable Sex"
   ]
  },
  {
   "cell_type": "code",
   "execution_count": 20,
   "metadata": {},
   "outputs": [
    {
     "data": {
      "text/plain": [
       "199    0\n",
       "468    1\n",
       "198    0\n",
       "574    1\n",
       "776    1\n",
       "      ..\n",
       "737    1\n",
       "360    1\n",
       "669    0\n",
       "245    1\n",
       "768    1\n",
       "Name: Sex_Label, Length: 623, dtype: int64"
      ]
     },
     "execution_count": 20,
     "metadata": {},
     "output_type": "execute_result"
    }
   ],
   "source": [
    "from sklearn import preprocessing\n",
    "\n",
    "le = preprocessing.LabelEncoder()\n",
    "le.fit([\"male\", \"female\"])\n",
    "list(le.classes_)\n",
    "train_X['Sex_Label'] = le.transform(train_X['Sex'])\n",
    "train_X['Sex_Label']"
   ]
  },
  {
   "cell_type": "code",
   "execution_count": 24,
   "metadata": {},
   "outputs": [
    {
     "name": "stdout",
     "output_type": "stream",
     "text": [
      "   PassengerId  Survived  Pclass  \\\n",
      "0            1         0       3   \n",
      "1            2         1       1   \n",
      "2            3         1       3   \n",
      "3            4         1       1   \n",
      "4            5         0       3   \n",
      "\n",
      "                                                Name   Age  SibSp  Parch  \\\n",
      "0                            Braund, Mr. Owen Harris  22.0      1      0   \n",
      "1  Cumings, Mrs. John Bradley (Florence Briggs Th...  38.0      1      0   \n",
      "2                             Heikkinen, Miss. Laina  26.0      0      0   \n",
      "3       Futrelle, Mrs. Jacques Heath (Lily May Peel)  35.0      1      0   \n",
      "4                           Allen, Mr. William Henry  35.0      0      0   \n",
      "\n",
      "             Ticket     Fare Cabin Embarked  Sex_male  \n",
      "0         A/5 21171   7.2500   NaN        S      True  \n",
      "1          PC 17599  71.2833   C85        C     False  \n",
      "2  STON/O2. 3101282   7.9250   NaN        S     False  \n",
      "3            113803  53.1000  C123        S     False  \n",
      "4            373450   8.0500   NaN        S      True  \n"
     ]
    }
   ],
   "source": [
    "# Using get_dummies\n",
    "df = pd.get_dummies(df, columns=['Sex'], drop_first=True)\n",
    "\n",
    "# Display the first few rows\n",
    "print(df.head())\n"
   ]
  },
  {
   "cell_type": "markdown",
   "metadata": {},
   "source": [
    "## Transform numeric data to category"
   ]
  },
  {
   "cell_type": "code",
   "execution_count": 55,
   "metadata": {},
   "outputs": [
    {
     "name": "stdout",
     "output_type": "stream",
     "text": [
      "           Age            AgeBin\n",
      "416  34.000000  (32.252, 48.168]\n",
      "801  31.000000  (16.336, 32.252]\n",
      "512  36.000000  (32.252, 48.168]\n",
      "455  29.000000  (16.336, 32.252]\n",
      "757  18.000000  (16.336, 32.252]\n",
      "275  63.000000  (48.168, 64.084]\n",
      "121  29.699118  (16.336, 32.252]\n",
      "443  28.000000  (16.336, 32.252]\n",
      "458  50.000000  (48.168, 64.084]\n",
      "653  29.699118  (16.336, 32.252]\n",
      "725  20.000000  (16.336, 32.252]\n",
      "395  22.000000  (16.336, 32.252]\n",
      "754  48.000000  (32.252, 48.168]\n",
      "40   40.000000  (32.252, 48.168]\n",
      "217  42.000000  (32.252, 48.168]\n",
      "457  29.699118  (16.336, 32.252]\n",
      "732  29.699118  (16.336, 32.252]\n",
      "469   0.750000    (0.34, 16.336]\n",
      "250  29.699118  (16.336, 32.252]\n",
      "124  54.000000  (48.168, 64.084]\n",
      "470  29.699118  (16.336, 32.252]\n",
      "291  19.000000  (16.336, 32.252]\n",
      "169  28.000000  (16.336, 32.252]\n",
      "300  29.699118  (16.336, 32.252]\n",
      "666  25.000000  (16.336, 32.252]\n",
      "885  39.000000  (32.252, 48.168]\n",
      "34   28.000000  (16.336, 32.252]\n",
      "348   3.000000    (0.34, 16.336]\n",
      "163  17.000000  (16.336, 32.252]\n",
      "159  29.699118  (16.336, 32.252]\n",
      "..         ...               ...\n",
      "817  31.000000  (16.336, 32.252]\n",
      "68   17.000000  (16.336, 32.252]\n",
      "208  16.000000    (0.34, 16.336]\n",
      "608  22.000000  (16.336, 32.252]\n",
      "420  29.699118  (16.336, 32.252]\n",
      "253  30.000000  (16.336, 32.252]\n",
      "846  29.699118  (16.336, 32.252]\n",
      "339  45.000000  (32.252, 48.168]\n",
      "409  29.699118  (16.336, 32.252]\n",
      "111  14.500000    (0.34, 16.336]\n",
      "224  38.000000  (32.252, 48.168]\n",
      "544  50.000000  (48.168, 64.084]\n",
      "73   26.000000  (16.336, 32.252]\n",
      "47   29.699118  (16.336, 32.252]\n",
      "638  41.000000  (32.252, 48.168]\n",
      "113  20.000000  (16.336, 32.252]\n",
      "96   71.000000    (64.084, 80.0]\n",
      "737  35.000000  (32.252, 48.168]\n",
      "214  29.699118  (16.336, 32.252]\n",
      "569  32.000000  (16.336, 32.252]\n",
      "123  32.500000  (32.252, 48.168]\n",
      "106  21.000000  (16.336, 32.252]\n",
      "595  36.000000  (32.252, 48.168]\n",
      "17   29.699118  (16.336, 32.252]\n",
      "742  21.000000  (16.336, 32.252]\n",
      "98   34.000000  (32.252, 48.168]\n",
      "322  30.000000  (16.336, 32.252]\n",
      "382  32.000000  (16.336, 32.252]\n",
      "365  30.000000  (16.336, 32.252]\n",
      "510  29.000000  (16.336, 32.252]\n",
      "\n",
      "[623 rows x 2 columns]\n"
     ]
    }
   ],
   "source": [
    "\n",
    "train_X['AgeBin'] = pd.cut(train_X['Age'], 5)\n",
    "print(train_X[['Age','AgeBin']])"
   ]
  },
  {
   "cell_type": "markdown",
   "metadata": {},
   "source": [
    "## PCA "
   ]
  },
  {
   "cell_type": "code",
   "execution_count": 25,
   "metadata": {},
   "outputs": [
    {
     "name": "stdout",
     "output_type": "stream",
     "text": [
      "[0.98361654 0.00868067 0.00381721]\n"
     ]
    }
   ],
   "source": [
    "from sklearn.decomposition import PCA\n",
    "\n",
    "pca = PCA(n_components=3)\n",
    "pca.fit_transform(train_X)\n",
    "print(pca.explained_variance_ratio_)"
   ]
  },
  {
   "cell_type": "code",
   "execution_count": 12,
   "metadata": {},
   "outputs": [
    {
     "name": "stdout",
     "output_type": "stream",
     "text": [
      "[[ 4.14214163  0.82936344  0.39795316]\n",
      " [ 1.14350405  0.77262179  0.46107859]\n",
      " [ 6.19427921 -0.49379444  1.06050476]\n",
      " ...\n",
      " [ 2.15071229 -0.62121473 -0.76194324]\n",
      " [ 0.15162058 -0.65904249 -0.71985962]\n",
      " [-0.84792528 -0.67795637 -0.69881781]]\n"
     ]
    }
   ],
   "source": [
    "x_new = pca.transform(train_X) \n",
    "print(x_new)"
   ]
  },
  {
   "cell_type": "code",
   "execution_count": null,
   "metadata": {},
   "outputs": [],
   "source": []
  }
 ],
 "metadata": {
  "kernelspec": {
   "display_name": "Python 3 (ipykernel)",
   "language": "python",
   "name": "python3"
  },
  "language_info": {
   "codemirror_mode": {
    "name": "ipython",
    "version": 3
   },
   "file_extension": ".py",
   "mimetype": "text/x-python",
   "name": "python",
   "nbconvert_exporter": "python",
   "pygments_lexer": "ipython3",
   "version": "3.11.0"
  }
 },
 "nbformat": 4,
 "nbformat_minor": 4
}
